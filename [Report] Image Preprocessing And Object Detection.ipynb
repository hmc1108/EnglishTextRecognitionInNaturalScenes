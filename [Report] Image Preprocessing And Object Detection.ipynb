{
 "cells": [
  {
   "cell_type": "markdown",
   "metadata": {},
   "source": [
    "# ENGLISH TEXT RECOGNITION IN NATURAL SCENE PICTURES"
   ]
  },
  {
   "cell_type": "markdown",
   "metadata": {
    "collapsed": true
   },
   "source": [
    "# Stage 1: Image preprocessing and object detection"
   ]
  },
  {
   "cell_type": "markdown",
   "metadata": {},
   "source": [
    "_**Step 1**_: Đầu tiên chúng ta cần dữ liệu đầu vào của bài toán đó là một hình ảnh. Ở đây ví dụ là hình ảnh như sau: \n",
    "\n",
    "![lao.jpg](http://francescopochetti.com/wp-content/uploads/2014/10/lao.jpg)\n",
    "\n",
    "\n",
    "* Đây là hình ảnh chứa văn bản tiếng Anh. Nhiệm vụ đặt ra trước mắt là cần phải load dữ liệu đầu vào và sau đó xử lý hai yếu tố chính là:\n",
    "\n",
    "    _1. Giảm nhiễu(Denoising)_ : Việc này được thực hiện với phương pháp giảm nhiễu biến đổi hoàn toàn [Total variation denoising](https://en.wikipedia.org/wiki/Total_variation_denoising) đây là một trong những phương pháp giảm nhiễu tốt nhất trong xử lý ảnh. Việc giảm nhiễu với mục đích giảm nhiều nhất có thể việc tách rời các gradient tuyệt đối của hình ảnh. Gradient của hình ảnh được hiểu đơn giản chính là sự thay đổi hướng của cường độ hoặc màu sắc trong chính hình ảnh.\n",
    "    \n",
    "    _2. Tăng tính tương phản(Increase contrast)_ : Được thực hiện với phương pháp Otsu ([Otsu's method](https://en.wikipedia.org/wiki/Otsu%27s_method)). Phương pháp sẽ tính toán ngưỡng tối ưu nhất bằng phương pháp tối ưu hóa phương sai giữa hai lớp điểm ảnh (pixels), được phân cách bởi ngưỡng. Và nó sẽ giảm thiểu các sai khác trong mỗi lớp.\n",
    "    \n",
    "_**Step 2**_: Sau khi chúng ta tiền xử lý ở step 1 tiếp theo là sẽ phát hiện các đối tượng và kết hợp với việc vẽ hình chữ nhật quanh mỗi đối tượng được phát hiện. Với quá trình này từ hình ảnh gốc ta biến đổi ra được hình ảnh sau:\n",
    "\n",
    "![preprocessed1.png](http://francescopochetti.com/wp-content/uploads/2014/10/preprocessed1.png)\n",
    "\n",
    "* Như hình trên không phải tất cả các đối tượng được phát hiện đều là văn bản. Sau đó các đối tượng được chuyển đổi sang ảnh xám và sẽ được thay đổi kích thước về 20x20 pixel. Các tọa độ của hình chữ nhật cũng được lưu để tái tạo hình ảnh sau đó. Kết quả của quá trình này được thể hiện ở ảnh sau (100 ảnh ngẫu nhiên các đối tượng):\n",
    "\n",
    "![TOD1.png](http://francescopochetti.com/wp-content/uploads/2014/10/TOD1.png)"
   ]
  }
 ],
 "metadata": {
  "anaconda-cloud": {},
  "kernelspec": {
   "display_name": "Python [conda root]",
   "language": "python",
   "name": "conda-root-py"
  },
  "language_info": {
   "codemirror_mode": {
    "name": "ipython",
    "version": 2
   },
   "file_extension": ".py",
   "mimetype": "text/x-python",
   "name": "python",
   "nbconvert_exporter": "python",
   "pygments_lexer": "ipython2",
   "version": "2.7.12"
  }
 },
 "nbformat": 4,
 "nbformat_minor": 1
}
