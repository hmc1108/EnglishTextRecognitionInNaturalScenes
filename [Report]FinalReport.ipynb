{
 "cells": [
  {
   "cell_type": "markdown",
   "metadata": {},
   "source": [
    "# English Text Recognition in Natural Scenes\n",
    "\n",
    "###   *1412060 - Huỳnh Minh Chương, 1412165 - Nguyễn Trung Hiếu*\n",
    "________________________________________________________________________________________________________________________________\n",
    "________________________________________________________________________________________________________________________________\n",
    "________________________________________________________________________________________________________________________________\n",
    "\n",
    "## PHẦN GIỚI THIỆU\n",
    "\n",
    "### 1. Giới thiệu:\n",
    "\n",
    "- Mục đích nghiên cứu: nghiên cứu về việc sử dụng máy học và xử lý ảnh để nhận dạng văn bản trong hình ảnh thiên nhiên nhằm nhận dạng chính xác nội dung văn bản có trong hình ảnh để có thể hỗ trợ dịch nội dung văn bản sang một ngôn ngữ khác.\n",
    "\n",
    "\n",
    "- Đối tượng và phạm vi nghiên cứu : Trong lĩnh vực ORC (nhận dạng ký tự) đối tượng nghiên cứu chủ yếu ở đây chính là văn bản với phạm vi là nhận dạng được văn bản trong hình ảnh chứa cảnh thiên nhiên.\n",
    "\n",
    "## PHẦN NỘI DUNG\n",
    "\n",
    "### 2. Hiện trạng vấn đề và tổng quan các nghiên cứu trước:\n",
    "\n",
    "- Tầm quan trọng của xử lý hình ảnh đã tăng lên rất nhiều trong những năm qua. Đặc biệt là với thị trường ngày càng tăng của điện thoại thông minh con người đã bắt đầu sản xuất một số lượng lớn các hình ảnh và video mà liên tục được xem trực tiếp trên nền tảng xã hội. Do đó, lãi suất tăng của ngành công nghiệp đối với loại vấn đề là hoàn toàn hợp lý.\n",
    "\n",
    "\n",
    "- Máy học tập rõ ràng đóng một vai trò rất quan trọng trong lĩnh vực này. phát hiện văn bản tự động và nhận dạng ký tự chỉ là một ví dụ. Người ta có thể trích dẫn ứng dụng phức tạp khác như các loài động vật, thực vật xác định, phát hiện con người hay, nhiều nói chung, khai thác bất kỳ loại thông tin sử dụng thương mại.\n",
    "\n",
    "\n",
    "- Lĩnh vực OCR viết tắt của Nhận dạng ký tự. Lĩnh vực này đã được đối tượng nghiên cứu rất sâu trong những thập kỷ qua. Trên thực tế, hiện nay, vấn đề nhận dạng ký tự từ các tài liệu màu đen và trắng được coi là giải quyết. Đó là thực tế khá phổ biến để quét một tờ giấy và sử dụng một số phần mềm tiêu chuẩn để chuyển đổi nó vào một tập tin văn bản. Ngoài ra còn có rất tốt các công cụ mã nguồn mở trên mạng, chẳng hạn như Tesseract OCR-, có khả năng đọc và phát hiện lên đến 60 ngôn ngữ. Trong mọi trường hợp đó là những trường hợp dễ dàng. Các hình ảnh là màu xám quy mô, độ tương phản rất tốt, không có vấn đề cụ thể trong đơn phát hiện nhân vật đường viền và các vấn đề chút do ánh sáng hay bóng tối.\n",
    "\n",
    "\n",
    "- Một vấn đề hoàn toàn khác bắt đầu được mô tả khi chúng ta thực hiện với những cảnh thiên nhiên. Ví dụ một bức ảnh chụp bởi một người dùng twitter và sau đó được đăng trên các nền tảng xã hội. Trong trường hợp này, vấn đề chưa được giải quyết cả. Trên thực tế vẫn có những vấn đề khá lớn trong việc xử lý loại hình ảnh. Cải tiến rất lớn đã được thực hiện bởi một số dịch vụ của Google như Translator mà gần đây thêm một tính năng mới có khả năng phát hiện và dịch văn bản từ hình ảnh, nhưng dù sao kết quả không hoàn toàn hài lòng và họ rất phụ thuộc vào chất lượng của hình ảnh và trên môi trường điều kiện (đêm / ngày, ánh sáng / bóng).\n",
    "\n",
    "\n",
    "- Chính vì thể việc nghiên cứu vấn đề nhận dạng văn bản trong ảnh cảnh thiên nhiên cũng rất quan trọng trong thời kỳ hiện nay. Bằng sự kết hợp của một số thư viện trong Python như Pandas, Scikit-Learn, Numpy, Skimage... Tuy không đạt được độ chính xác tuyệt đối nhưng vấn đề này đã được giải quyết theo một hướng đúng và tương lai sẽ được cải tiến và giải quyết với độ chính xác tuyệt đối với cách giải quyết theo hướng giải quyết này.\n",
    "*******************************************************************************************************************************\n",
    "### 3. Phát biểu giả thiết hay giải pháp:\n",
    "\n",
    "- Để giải quyết được bài toán trước tiên có thể chia bài toán gồm 4 nội dụng cần thực hiện:\n",
    "    + Bước 1: Quá trình tiền xử lý hình ảnh và nhận diện các đối tượng.\n",
    "    + Bước 2: Nhận diện các đối tượng có thể là văn bản.\n",
    "    + Bước 3: Phân loại các văn bản.\n",
    "    + Bước 4: Xây dựng cấu trúc văn bản trên ảnh.\n",
    "\n",
    "#### 3.1. Các cơ sở lý thuyết:\n",
    "- Dựa vào các phương pháp giảm nhiễu cũng nhưng tăng tính tương phản trong xử lý ảnh để bước đầu tiền xử lý ảnh đầu vào.\n",
    "- Dựa vào phương pháp rút trích đặc trưng, phương pháp phân lớp trong máy học.\n",
    "\n",
    "#### 3.2 Các thuật toán:\n",
    "- **Giảm nhiễu(Denoising)**: Việc này được thực hiện với phương pháp giảm nhiễu biến đổi hoàn toàn [Total variation denoising](https://en.wikipedia.org/wiki/Total_variation_denoising) đây là một trong những phương pháp giảm nhiễu tốt nhất trong xử lý ảnh. Việc giảm nhiễu với mục đích giảm nhiều nhất có thể việc tách rời các gradient tuyệt đối của hình ảnh. Gradient của hình ảnh được hiểu đơn giản chính là sự thay đổi hướng của cường độ hoặc màu sắc trong chính hình ảnh.  \n",
    "- **Tăng tính tương phản(Increase contrast)**: Được thực hiện với phương pháp Otsu ([Otsu's method](https://en.wikipedia.org/wiki/Otsu%27s_method)). Phương pháp sẽ tính toán ngưỡng tối ưu nhất bằng phương pháp tối ưu hóa phương sai giữa hai lớp điểm ảnh (pixels), được phân cách bởi ngưỡng. Và nó sẽ giảm thiểu các sai khác trong mỗi lớp.\n",
    "- **Trích xuất các đặc trưng:** Bước này sẽ tính toán [Histogram of Gradient](http://scikit-image.org/docs/dev/auto_examples/plot_hog.html) (HOG) của ảnh. Kỹ thuật ở đây dựa vào việc ta có thể mô tả thể hiện và hình dáng của các đối tượng trong ảnh bằng sự phân bố cường độ các gradient (gradient là sự thay đổi hướng của cường độ hoặc màu của ảnh). Cách này thường được sử dụng trong việc nhận diện đối tượng vì nó có thể tìm ra các đường bao của hình dáng một cách tương đối dễ dàng. Khi thực hiện xong bước này, ta được một tập các điểm dữ liệu đặc trưng cần thiết cho việc phân loại.  \n",
    "- **Phân loại**: Bước này sử dụng phương pháp [Support Vector Machines with a Linear Kernel](http://scikit-learn.org/stable/modules/svm.html) (SVM)\n",
    "\n",
    "### 4. Thực nghiệm và đánh giá giải pháp:\n",
    "\n",
    "## PHẦN KẾT LUẬN\n",
    "\n",
    "### 5. Kết luận:\n",
    "    "
   ]
  },
  {
   "cell_type": "code",
   "execution_count": null,
   "metadata": {
    "collapsed": true
   },
   "outputs": [],
   "source": []
  }
 ],
 "metadata": {
  "anaconda-cloud": {},
  "kernelspec": {
   "display_name": "Python [default]",
   "language": "python",
   "name": "python2"
  },
  "language_info": {
   "codemirror_mode": {
    "name": "ipython",
    "version": 2
   },
   "file_extension": ".py",
   "mimetype": "text/x-python",
   "name": "python",
   "nbconvert_exporter": "python",
   "pygments_lexer": "ipython2",
   "version": "2.7.12"
  }
 },
 "nbformat": 4,
 "nbformat_minor": 1
}
