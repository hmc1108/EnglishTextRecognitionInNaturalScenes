{
 "cells": [
  {
   "cell_type": "markdown",
   "metadata": {
    "collapsed": true
   },
   "source": [
    "# Text Detection\n",
    "\n",
    "Thách thức đặt ra là làm sao để xác định các đối tượng vừa nhận diẹn được có chứa văn bản để phân loại chúng. Để giải quyết vấn đề này ta cần một tập dữ liệu huấn luyện lý tưởng gồm 50% số hình có chứa văn bản và 50% còn lại không chứa. Để tạo ra tập dữ liệu này ta cần kết hợp 2 tập dữ liệu:  \n",
    "1. 50 000 ảnh được lấy từ 78 903 hình ở tập dữ liệu [74K Chars dataset](http://www.ee.surrey.ac.uk/CVSSP/demos/chars74k/).Tập này gồm những hình ảnh có văn bản và được dán nhãn là 1\n",
    "2. 50 000 ảnh được lấy từ tập [CIFAR-10 dataset on Kaggle](https://www.kaggle.com/c/cifar-10/data). Những hình ảnh trong tập này không có văn bản và được dán nhãn là 0  \n",
    "  \n",
    "Tập hoàn chỉnh gồm 100 000 ảnh, được dán nhãn đúng và trộn lại theo 1 thứ tự ngẫu nhiên. Do vậy, ta cần một mô hình phân lớp nhị phân.  \n",
    "\n",
    "Mô hình này gồm 2 bước:  \n",
    "1. **Trích xuất các đặc trưng:** Bước này sẽ tính toán [Histogram of Gradient](http://scikit-image.org/docs/dev/auto_examples/plot_hog.html) (HOG) của ảnh. Kỹ thuật ở đây dựa vào việc ta có thể mô tả thể hiện và hình dáng của các đối tượng trong ảnh bằng sự phân bố cường độ các gradient (gradient là sự thay đổi hướng của cường độ hoặc màu của ảnh). Cách này thường được sử dụng trong việc nhận diện đối tượng vì nó có thể tìm ra các đường bao của hình dáng một cách tương đối dễ dàng. Khi thực hiện xong bước này, ta được một tập các điểm dữ liệu đặc trưng cần thiết cho việc phân loại.  \n",
    "2. **Phân loại**: Bước này sử dụng phương pháp [Support Vector Machines with a Linear Kernel](http://scikit-learn.org/stable/modules/svm.html) (SVM)"
   ]
  }
 ],
 "metadata": {
  "anaconda-cloud": {},
  "kernelspec": {
   "display_name": "Python [Root]",
   "language": "python",
   "name": "Python [Root]"
  },
  "language_info": {
   "codemirror_mode": {
    "name": "ipython",
    "version": 2
   },
   "file_extension": ".py",
   "mimetype": "text/x-python",
   "name": "python",
   "nbconvert_exporter": "python",
   "pygments_lexer": "ipython2",
   "version": "2.7.12"
  }
 },
 "nbformat": 4,
 "nbformat_minor": 0
}
