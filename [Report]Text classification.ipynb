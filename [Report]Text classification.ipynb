{
 "cells": [
  {
   "cell_type": "code",
   "execution_count": null,
   "metadata": {
    "collapsed": true
   },
   "outputs": [],
   "source": []
  },
  {
   "cell_type": "markdown",
   "metadata": {},
   "source": [
    "# Text Classification\n",
    "\n",
    "- Ở giai đoạn này là quá trình phân lớp các ký tự đơn dựa vào các dữ liệu đã được training.\n",
    "\n",
    "- Trong trường hợp này bộ dữ liệu gồm có 78.903 hình ảnh có sẵn trong [74K Chars dataset](http://www.ee.surrey.ac.uk/CVSSP/demos/chars74k/). Chúng ta sẽ phải xử lý phân loại nhị phân nữa là trong trường hợp này, số lượng các lớp học là 36:\n",
    "    + Số nguyên [0-9] :  10 lớp\n",
    "    + Chữ thường của bảng chữ cái tiếng Anh [a-z]: 26 lớp\n",
    "- Bước này chỉ gồm nạp dữ liệu OCR và dựng mô hình dựa trên tập data, nhãn và tham số đã đánh giá ở phần Text Detection sử dụng phương pháp rút trích đặc trưng [Histogram of Gradient](http://scikit-image.org/docs/dev/auto_examples/plot_hog.html) (HOG) của ảnh kết hợp với phương pháp phân loại (SVM) [Support Vector Machines with a Linear Kernel](http://scikit-learn.org/stable/modules/svm.html).\n",
    "- Kết quả thu được là :\n",
    "![SCR2](img/SCR2.png)  "
   ]
  },
  {
   "cell_type": "code",
   "execution_count": null,
   "metadata": {
    "collapsed": true
   },
   "outputs": [],
   "source": []
  }
 ],
 "metadata": {
  "anaconda-cloud": {},
  "kernelspec": {
   "display_name": "Python [default]",
   "language": "python",
   "name": "python2"
  },
  "language_info": {
   "codemirror_mode": {
    "name": "ipython",
    "version": 2
   },
   "file_extension": ".py",
   "mimetype": "text/x-python",
   "name": "python",
   "nbconvert_exporter": "python",
   "pygments_lexer": "ipython2",
   "version": "2.7.12"
  }
 },
 "nbformat": 4,
 "nbformat_minor": 1
}
